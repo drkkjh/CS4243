{
 "cells": [
  {
   "cell_type": "markdown",
   "id": "b76ca574",
   "metadata": {},
   "source": [
    "# CS4243 - Lab 8\n",
    "Computer Vision & Pattern Recognition\n",
    "\n",
    "Week 8\n",
    "\n",
    "Author: Dr. Amirhassan MONAJEMI. Modified by: Soo Han"
   ]
  },
  {
   "cell_type": "markdown",
   "id": "baedadc0",
   "metadata": {},
   "source": [
    "## Part 1: Review of Coursework 1\n",
    "- TAs will review the 1st coursework\n",
    "- Expected time: 20-30 mins"
   ]
  },
  {
   "cell_type": "markdown",
   "id": "fa20c3d3",
   "metadata": {},
   "source": [
    "## Part 2: Troubleshooting and Review of Coursework 2\n",
    "- Please read the Coursework 2 file and ask any questions\n",
    "- Expected time: 20-30 minutes"
   ]
  },
  {
   "cell_type": "markdown",
   "id": "1ded9c9a",
   "metadata": {},
   "source": [
    "## Part 3: Motion Detection (Differential Motion Analysis)\n",
    "- Run through the code and understand how to do simple motion detection. You are encouraged to improve upon the code as well."
   ]
  },
  {
   "cell_type": "markdown",
   "id": "fcbfd455",
   "metadata": {},
   "source": [
    "Use the following two frames for this task: g23.bmp , g24.bmp\n",
    "1. Find and show the absolute difference between images\n",
    "2. Apply an horizontal edge detector on images, find the maximum, estimate the displacement vector\n",
    "3. How can we make it better? "
   ]
  },
  {
   "cell_type": "code",
   "execution_count": 1,
   "id": "abfd9004",
   "metadata": {},
   "outputs": [],
   "source": [
    "import cv2\n",
    "import numpy as np\n",
    "import matplotlib.pyplot as plt\n",
    "%matplotlib inline\n",
    "\n",
    "# function to keep the valid part after convolution \n",
    "def am_valid_part(a,N):\n",
    "    cff = int(N/2)\n",
    "    M = a.shape\n",
    "    if len(M)==3:\n",
    "        return a[cff:M[0]-cff, cff:M[1]-cff, :]\n",
    "    else:\n",
    "        return a[cff:M[0]-cff, cff:M[1]-cff]\n",
    "\n",
    "def ready_2_show(a, level=255):\n",
    "    a = ( a - np.min(a) ) / (np.max(a) - np.min(a)) \n",
    "    a = a * level\n",
    "    return np.uint8(a)"
   ]
  },
  {
   "cell_type": "code",
   "execution_count": 2,
   "id": "28e71fda",
   "metadata": {},
   "outputs": [],
   "source": [
    "image1 = cv2.imread('./CS4243_2023_images_small/g23.bmp',0)\n",
    "image2 = cv2.imread('./CS4243_2023_images_small/g24.bmp',0)"
   ]
  },
  {
   "cell_type": "code",
   "execution_count": 3,
   "id": "639c396d",
   "metadata": {},
   "outputs": [],
   "source": [
    "# computing the absolute difference between frames\n",
    "diffp = (image1*1.0 - image2*1.0) \n",
    "diffp = abs( diffp )"
   ]
  },
  {
   "cell_type": "code",
   "execution_count": 4,
   "id": "178a623a",
   "metadata": {},
   "outputs": [],
   "source": [
    "# showing the results: absolute difference, suggests the motion\n",
    "cv2.namedWindow(\"difference\", cv2.WINDOW_NORMAL)\n",
    "cv2.imshow('difference', diffp)\n",
    "\n",
    "# plt.title('difference')\n",
    "# plt.imshow(diffp)"
   ]
  },
  {
   "cell_type": "code",
   "execution_count": 5,
   "id": "2ff69590",
   "metadata": {},
   "outputs": [],
   "source": [
    "# horizontal edge detector\n",
    "hsy = np.array([[-1 , -1] , [1 , 1]])\n",
    "# edge images: Gy1 and Gy2 for frames image1 and image2\n",
    "Gy1 = cv2.filter2D(src=image1, ddepth=-1, kernel=hsy)\n",
    "Gy2 = cv2.filter2D(src=image2, ddepth=-1, kernel=hsy)\n",
    "Gy1 = am_valid_part(Gy1,2)\n",
    "Gy2 = am_valid_part(Gy2,2)\n",
    "# using the absolute value of edge images\n",
    "Gabs1 = (np.abs(Gy1))\n",
    "Gabs2 = (np.abs(Gy2))"
   ]
  },
  {
   "cell_type": "markdown",
   "id": "55b4baee",
   "metadata": {},
   "source": [
    "Find the position of maximum edge pixels in both images in the cell below"
   ]
  },
  {
   "cell_type": "code",
   "execution_count": 6,
   "id": "09eb5a5d",
   "metadata": {},
   "outputs": [
    {
     "name": "stdout",
     "output_type": "stream",
     "text": [
      "maximum point on image1: 1050 213 \t on image2: 1062 1433\n"
     ]
    },
    {
     "data": {
      "text/plain": [
       "array([[0., 0., 0., ..., 0., 0., 0.],\n",
       "       [0., 0., 0., ..., 0., 0., 0.],\n",
       "       [0., 0., 0., ..., 0., 0., 0.],\n",
       "       ...,\n",
       "       [0., 0., 0., ..., 0., 0., 0.],\n",
       "       [0., 0., 0., ..., 0., 0., 0.],\n",
       "       [0., 0., 0., ..., 0., 0., 0.]])"
      ]
     },
     "execution_count": 6,
     "metadata": {},
     "output_type": "execute_result"
    }
   ],
   "source": [
    "gmx2 = np.max(Gabs2)\n",
    "M = Gabs1.shape\n",
    "index = Gabs1.argmax()\n",
    "y1, x1 = index//M[1], index%M[1]\n",
    "index = Gabs2.argmax()\n",
    "y2, x2 = index//M[1], index%M[1]\n",
    "\n",
    "## where are the max points on 2 frames?\n",
    "print('maximum point on image1:' ,x1,y1 ,'\\t on image2:' ,x2,y2)\n",
    "\n",
    "## superimposing the motion on the first frame and the differential image\n",
    "cv2.circle(image1, (x1,y1), 15, 1, 2)\n",
    "cv2.circle(image1, (x2,y2), 15, 1, 2)\n",
    "cv2.line(image1, (x1,y1), (x2,y2), 1, 2)\n",
    "\n",
    "cv2.circle(diffp, (x1,y1), 15, 100, 2)\n",
    "cv2.circle(diffp, (x2,y2), 15, 100, 2)\n",
    "cv2.line(diffp, (x1,y1), (x2,y2), 100, 2)"
   ]
  },
  {
   "cell_type": "code",
   "execution_count": 7,
   "id": "d13f5158",
   "metadata": {},
   "outputs": [],
   "source": [
    "# showing the results: absolute difference, suggests the motion\n",
    "cv2.namedWindow(\"difference after\", cv2.WINDOW_NORMAL)\n",
    "cv2.imshow('difference after', diffp)\n",
    "\n",
    "# plt.title('difference after')\n",
    "# plt.imshow(diffp)"
   ]
  },
  {
   "cell_type": "code",
   "execution_count": 8,
   "id": "c9da9645",
   "metadata": {},
   "outputs": [],
   "source": [
    "# showing the results\n",
    "cv2.namedWindow(\"Original 1\", cv2.WINDOW_NORMAL)\n",
    "cv2.imshow('Original 1', image1)\n",
    "cv2.namedWindow(\"Original 2\", cv2.WINDOW_NORMAL)\n",
    "cv2.imshow('Original 2', image2)         \n",
    "cv2.namedWindow(\"Gy1\", cv2.WINDOW_NORMAL)\n",
    "cv2.imshow('Gy1', ready_2_show(Gy1) )         \n",
    "cv2.namedWindow(\"Gy2\", cv2.WINDOW_NORMAL)\n",
    "cv2.imshow('Gy2', ready_2_show(Gy2))\n",
    "\n",
    "# plt.figure(figsize=(15, 10))\n",
    "# plt.subplot(221), plt.imshow(image1), plt.title('Original 1'), plt.axis('off') \n",
    "# plt.subplot(222), plt.imshow(image2), plt.title('Original 2'), plt.axis('off')\n",
    "# plt.subplot(223), plt.imshow(ready_2_show(Gy1)), plt.title('Gy1'), plt.axis('off')\n",
    "# plt.subplot(224), plt.imshow(ready_2_show(Gy2)), plt.title('Gy2'), plt.axis('off')\n",
    "# plt.show()"
   ]
  },
  {
   "cell_type": "code",
   "execution_count": 9,
   "id": "94b2aab2",
   "metadata": {},
   "outputs": [],
   "source": [
    "cv2.waitKey()\n",
    "cv2.destroyAllWindows()"
   ]
  }
 ],
 "metadata": {
  "kernelspec": {
   "display_name": "Python 3",
   "language": "python",
   "name": "python3"
  },
  "language_info": {
   "codemirror_mode": {
    "name": "ipython",
    "version": 3
   },
   "file_extension": ".py",
   "mimetype": "text/x-python",
   "name": "python",
   "nbconvert_exporter": "python",
   "pygments_lexer": "ipython3",
   "version": "3.10.6"
  }
 },
 "nbformat": 4,
 "nbformat_minor": 5
}
