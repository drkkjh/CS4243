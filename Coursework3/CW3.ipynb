{
 "cells": [
  {
   "cell_type": "code",
   "execution_count": 1,
   "metadata": {},
   "outputs": [],
   "source": [
    "import numpy as np\n",
    "from numpy import exp"
   ]
  },
  {
   "cell_type": "code",
   "execution_count": 12,
   "metadata": {},
   "outputs": [
    {
     "name": "stdout",
     "output_type": "stream",
     "text": [
      "[ 3.495   2.0243  3.0567 -0.147 ]\n",
      "Inner products for cluster 1 and softmax: [0.52601217 0.12085897 0.3393474  0.01378146]\n",
      "[-2.449 -1.75  -1.721  6.767]\n",
      "Inner products for cluster 2 and softmax: [9.93854065e-05 1.99937594e-04 2.05820676e-04 9.99494856e-01]\n"
     ]
    }
   ],
   "source": [
    "# Utility function for softmax\n",
    "def softmax(vector):\n",
    "    e = exp(vector)\n",
    "    return e/ np.sum(e)\n",
    "\n",
    "# Matmul operator is '@' using python\n",
    "# dataset features\n",
    "ds1 = np.array([-3, -2, 1, -1, 1])\n",
    "# print(ds1.shape)\n",
    "ds2 = np.array([-1, -4, 0, -1.2, 0.9])\n",
    "ds3 = np.array([-2, -2, 1, -0.8, 1.1])\n",
    "ds4 = np.array([3, 1, 3, -2, -2])\n",
    "\n",
    "# weights for each cluster\n",
    "w1 = np.array([-0.465, -0.146, 0.806, -0.245, 0.757])\n",
    "# print(w1.shape)\n",
    "w2 = np.array([0.911, 0.392, 0.522, -0.792, -0.246])\n",
    "\n",
    "# Inner product for cluster 1\n",
    "vector1 = np.array([])\n",
    "vector1 = np.append(vector1, ds1 @ w1.T)\n",
    "vector1 = np.append(vector1, ds2 @ w1.T)\n",
    "vector1 = np.append(vector1, ds3 @ w1.T)\n",
    "vector1 = np.append(vector1, ds4 @ w1.T)\n",
    "print(vector1)\n",
    "softmaxVector = softmax(vector1)\n",
    "print(\"Inner products for cluster 1 and softmax:\", softmaxVector)\n",
    "\n",
    "# Inner product for cluster 2\n",
    "vector2 = np.array([])\n",
    "vector2 = np.append(vector2, ds1 @ w2.T)\n",
    "vector2 = np.append(vector2, ds2 @ w2.T)\n",
    "vector2 = np.append(vector2, ds3 @ w2.T)\n",
    "vector2 = np.append(vector2, ds4 @ w2.T)\n",
    "print(vector2)\n",
    "softmaxVector2 = softmax(vector2)\n",
    "print(\"Inner products for cluster 2 and softmax:\", softmaxVector2)\n",
    "\n",
    "# Answer for CW3 Q1 is : (a)\n",
    "# print(9.99494856e-01 > 0.01378146)"
   ]
  }
 ],
 "metadata": {
  "kernelspec": {
   "display_name": "Python 3",
   "language": "python",
   "name": "python3"
  },
  "language_info": {
   "codemirror_mode": {
    "name": "ipython",
    "version": 3
   },
   "file_extension": ".py",
   "mimetype": "text/x-python",
   "name": "python",
   "nbconvert_exporter": "python",
   "pygments_lexer": "ipython3",
   "version": "3.10.6"
  }
 },
 "nbformat": 4,
 "nbformat_minor": 2
}
