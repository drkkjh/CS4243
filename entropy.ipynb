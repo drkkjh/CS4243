{
 "cells": [
  {
   "cell_type": "markdown",
   "id": "b391ddde",
   "metadata": {},
   "source": [
    "## Entropy 1"
   ]
  },
  {
   "cell_type": "code",
   "execution_count": 7,
   "id": "9f7c311f",
   "metadata": {},
   "outputs": [],
   "source": [
    "import cv2\n",
    "import numpy as np"
   ]
  },
  {
   "cell_type": "code",
   "execution_count": 8,
   "id": "9966ee76",
   "metadata": {},
   "outputs": [],
   "source": [
    "image = cv2.imread('./CS4243_2023_images_small/31.jpg')\n",
    "# Print error message if image is null\n",
    "if image is None:\n",
    "    print('Could not read image')"
   ]
  },
  {
   "cell_type": "code",
   "execution_count": 9,
   "id": "e9a10c94",
   "metadata": {},
   "outputs": [
    {
     "name": "stdout",
     "output_type": "stream",
     "text": [
      "(512, 512)   =====-----=======  (512, 512)\n"
     ]
    }
   ],
   "source": [
    "'''generating 2 artificial images, a plain and a complete noise \n",
    " then we compute and compare the entropies. noise pixels are between 0 and 255'''\n",
    "\n",
    "plain = np.ones([512,512]) * 100\n",
    "noise = np.random.randint(256,size=[512,512])\n",
    "plain = np.uint8(plain)\n",
    "noise = np.uint8(noise)\n",
    "print(plain.shape,'  =====-----======= ',noise.shape)"
   ]
  },
  {
   "cell_type": "code",
   "execution_count": 10,
   "id": "656945f4",
   "metadata": {},
   "outputs": [
    {
     "name": "stdout",
     "output_type": "stream",
     "text": [
      "[     0      0      0      0      0      0      0      0      0      0\n",
      "      0      0      0      0      0      0      0      0      0      0\n",
      "      0      0      0      0      0      0      0      0      0      0\n",
      "      0      0      0      0      0      0      0      0      0      0\n",
      "      0      0      0      0      0      0      0      0      0      0\n",
      "      0      0      0      0      0      0      0      0      0      0\n",
      "      0      0      0      0      0      0      0      0      0      0\n",
      "      0      0      0      0      0      0      0      0      0      0\n",
      "      0      0      0      0      0      0      0      0      0      0\n",
      "      0      0      0      0      0      0      0      0      0      0\n",
      " 262144      0      0      0      0      0      0      0      0      0\n",
      "      0      0      0      0      0      0      0      0      0      0\n",
      "      0      0      0      0      0      0      0      0      0      0\n",
      "      0      0      0      0      0      0      0      0      0      0\n",
      "      0      0      0      0      0      0      0      0      0      0\n",
      "      0      0      0      0      0      0      0      0      0      0\n",
      "      0      0      0      0      0      0      0      0      0      0\n",
      "      0      0      0      0      0      0      0      0      0      0\n",
      "      0      0      0      0      0      0      0      0      0      0\n",
      "      0      0      0      0      0      0      0      0      0      0\n",
      "      0      0      0      0      0      0      0      0      0      0\n",
      "      0      0      0      0      0      0      0      0      0      0\n",
      "      0      0      0      0      0      0      0      0      0      0\n",
      "      0      0      0      0      0      0      0      0      0      0\n",
      "      0      0      0      0      0      0      0      0      0      0\n",
      "      0      0      0      0      0      0] \n",
      "=====-----=======\n",
      " [1052 1039 1021 1016  992 1014  954  995 1034 1050 1051  997 1001  982\n",
      "  977 1020 1055  989 1034 1062  981 1014 1000 1058 1045 1033 1032  989\n",
      " 1015 1032 1059 1050 1069 1030  994  987 1035 1061 1042 1066 1050 1065\n",
      " 1038 1007  997 1012 1082 1001  998  999 1036  971 1005  985 1013 1062\n",
      " 1020 1030 1019 1084 1023 1057 1023 1013 1039 1042 1020  978 1046 1128\n",
      "  950  989  996 1025 1031 1022 1034 1057 1004  979 1071 1018  963 1004\n",
      "  985 1005 1046 1014  982 1008 1007  936 1017 1054  978 1036 1035  971\n",
      "  987 1085 1091 1046 1042 1024  986  981 1050  961 1035 1038  973 1053\n",
      " 1055  985 1028 1009 1096 1023 1001  996  990 1052 1030 1007 1005 1047\n",
      " 1083 1001 1105 1018  977 1030 1031 1074  986 1086 1014 1008 1048 1019\n",
      "  984  997  956  989 1083 1074 1092 1026 1077  969 1012 1022 1072  995\n",
      " 1046 1000 1078 1042 1024  972 1055  962 1068 1028 1004 1075 1099 1034\n",
      " 1041 1010  995  975 1014 1034 1023 1017  997  995 1050 1040 1038  993\n",
      " 1029 1065 1060  967 1022 1005 1033 1068 1041 1024 1014 1018 1014  965\n",
      " 1011  981  999 1041 1035 1036  997 1054 1029 1067 1074  997 1025  981\n",
      " 1004 1005 1087 1012 1004  958 1047 1039  994  998 1043  999 1020 1046\n",
      " 1063 1036 1066 1044 1038 1035 1040 1046 1015 1093 1004  993 1030 1005\n",
      " 1051 1006 1072 1033 1033  986 1055 1043 1008 1016 1046  983 1057 1057\n",
      " 1000 1031 1025 1026]\n"
     ]
    }
   ],
   "source": [
    "# compute the histograms\n",
    "\n",
    "histp,binsp = np.histogram(plain.flatten(),256,[0,256])\n",
    "histn,binsn = np.histogram(noise.flatten(),256,[0,256])\n",
    "\n",
    "print(histp,'\\n=====-----=======\\n',histn)\n"
   ]
  },
  {
   "cell_type": "code",
   "execution_count": 11,
   "id": "45c5a42f",
   "metadata": {},
   "outputs": [
    {
     "name": "stdout",
     "output_type": "stream",
     "text": [
      "Plain image Entropy= -1.4426878274712997e-05 \t\tNoise image Entropy= 7.995561677858218\n"
     ]
    }
   ],
   "source": [
    "# to compute entropy we need the probability of occurrence of each color/graylevel in image, \n",
    "# so we divide the histogram bin height by number of pixels of the image\n",
    "# then we can compute the entropy\n",
    "# finally he entropy of plain and noise images will be printed out\n",
    "#\n",
    "histp = histp / 512 / 512\n",
    "histn = histn / 512 / 512\n",
    "entp = -np.sum( histp * np.log2(histp+0.00001))\n",
    "entn = -np.sum( histn * np.log2(histn+0.00001))\n",
    "print('Plain image Entropy=',entp,'\\t\\tNoise image Entropy=',entn)"
   ]
  },
  {
   "cell_type": "code",
   "execution_count": 12,
   "id": "5aeaef37",
   "metadata": {},
   "outputs": [
    {
     "data": {
      "text/plain": [
       "99"
      ]
     },
     "execution_count": 12,
     "metadata": {},
     "output_type": "execute_result"
    }
   ],
   "source": [
    "# showing the images\n",
    "cv2.namedWindow(\"plain\", cv2.WINDOW_NORMAL)\n",
    "cv2.imshow('plain', plain)\n",
    "cv2.namedWindow(\"noise\", cv2.WINDOW_NORMAL)\n",
    "cv2.imshow('noise', noise)\n",
    "cv2.waitKey()  \n"
   ]
  },
  {
   "cell_type": "code",
   "execution_count": 13,
   "id": "0888c6fe",
   "metadata": {},
   "outputs": [],
   "source": [
    "''' now we repeat that with a real/bnatural image\n",
    " histogram and entropy ould be computed and printed\n",
    "then we add Gaussian noises with increasing STD/power to the image and compute the \n",
    "entropy respectively. \n",
    "the noise STD is 10,20,50,80\n",
    "'''\n",
    "\n",
    "hist,bins = np.histogram(image.flatten(),256,[0,256])\n",
    "M = image.shape\n",
    "ssz = M[0]*M[1]*M[2] "
   ]
  },
  {
   "cell_type": "code",
   "execution_count": 14,
   "id": "b4e56b7e",
   "metadata": {},
   "outputs": [
    {
     "name": "stdout",
     "output_type": "stream",
     "text": [
      "original image Entropy= 5.626857363769677\n"
     ]
    }
   ],
   "source": [
    "hist = hist / ssz\n",
    "ent = -np.sum( hist * np.log2(hist+0.000001))\n",
    "print('original image Entropy=',ent)"
   ]
  },
  {
   "cell_type": "code",
   "execution_count": 15,
   "id": "55718562",
   "metadata": {},
   "outputs": [
    {
     "name": "stdout",
     "output_type": "stream",
     "text": [
      "noise STD= 0.1 \tnoisy image Entropy= 5.617926931241062\n",
      "noise STD= 2 \tnoisy image Entropy= 5.706920038592658\n",
      "noise STD= 5 \tnoisy image Entropy= 5.9489763953556025\n",
      "noise STD= 10 \tnoisy image Entropy= 6.333360265425167\n",
      "noise STD= 20 \tnoisy image Entropy= 6.877912916593323\n",
      "noise STD= 50 \tnoisy image Entropy= 7.732403339738538\n",
      "noise STD= 80 \tnoisy image Entropy= 7.972034453919577\n",
      "noise STD= 90 \tnoisy image Entropy= 7.988106464590346\n",
      "noise STD= 120 \tnoisy image Entropy= 7.997835097907244\n"
     ]
    }
   ],
   "source": [
    "for ni in [0.1, 2, 5, 10, 20, 50, 80, 90, 120]:\n",
    "    noise= ni* np.random.randn(M[0],M[1],M[2])\n",
    "    nimg = image + noise\n",
    "    nimg = np.uint8(nimg)\n",
    "    hist,bins = np.histogram(nimg.flatten(),256,[0,256])\n",
    "    hist = hist / ssz\n",
    "    ent = -np.sum( hist * np.log2(hist+0.000001))\n",
    "    print('noise STD=',ni,'\\tnoisy image Entropy=',ent)"
   ]
  },
  {
   "cell_type": "code",
   "execution_count": 16,
   "id": "735a1c7d",
   "metadata": {},
   "outputs": [
    {
     "ename": "",
     "evalue": "",
     "output_type": "error",
     "traceback": [
      "\u001b[1;31mThe Kernel crashed while executing code in the the current cell or a previous cell. Please review the code in the cell(s) to identify a possible cause of the failure. Click <a href='https://aka.ms/vscodeJupyterKernelCrash'>here</a> for more info. View Jupyter <a href='command:jupyter.viewOutput'>log</a> for further details."
     ]
    }
   ],
   "source": [
    "cv2.destroyAllWindows()"
   ]
  },
  {
   "cell_type": "code",
   "execution_count": null,
   "id": "c58c4ad7",
   "metadata": {},
   "outputs": [],
   "source": []
  }
 ],
 "metadata": {
  "kernelspec": {
   "display_name": "Python 3 (ipykernel)",
   "language": "python",
   "name": "python3"
  },
  "language_info": {
   "codemirror_mode": {
    "name": "ipython",
    "version": 3
   },
   "file_extension": ".py",
   "mimetype": "text/x-python",
   "name": "python",
   "nbconvert_exporter": "python",
   "pygments_lexer": "ipython3",
   "version": "3.10.6"
  }
 },
 "nbformat": 4,
 "nbformat_minor": 5
}
