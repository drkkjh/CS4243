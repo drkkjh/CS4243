{
 "cells": [
  {
   "cell_type": "markdown",
   "id": "41217d1b",
   "metadata": {},
   "source": [
    "## Utility functions, CS4243, Amir\n"
   ]
  },
  {
   "cell_type": "code",
   "execution_count": 1,
   "id": "e6333134",
   "metadata": {},
   "outputs": [],
   "source": [
    "import matplotlib.pyplot as plt\n",
    "import numpy as np\n",
    "import cv2\n",
    "from scipy.linalg import hadamard\n",
    "\n",
    "%matplotlib inline"
   ]
  },
  {
   "cell_type": "code",
   "execution_count": 2,
   "id": "deb34c57",
   "metadata": {},
   "outputs": [],
   "source": [
    "# function to compute the entropy of an image. \n",
    "# nimg is the input image and N is the number of graylevels, default is 256\n",
    "# nimg is supposed to be a graylevel image.\n",
    "#\n",
    "def am_entropy(nimg , N=256):\n",
    "    M = nimg.shape\n",
    "    ssz = M[0] * M[1]\n",
    "    hist,bins = np.histogram(nimg.flatten(),N,[0,N])\n",
    "    hist = hist / ssz\n",
    "    ent = -np.sum( hist * np.log2(hist+0.000001))\n",
    "    return ent\n"
   ]
  },
  {
   "cell_type": "code",
   "execution_count": 3,
   "id": "8733a7f3",
   "metadata": {},
   "outputs": [],
   "source": [
    "# function to compute the image power. input could be graylevel or color. \n",
    "#\n",
    "def am_power(a):\n",
    "    dim1 = a.shape\n",
    "    \n",
    "    if len(dim1)==2:\n",
    "        sz = dim1[0] * dim1[1] \n",
    "    elif len(dim1)==3:\n",
    "        sz = dim1[0] * dim1[1] * dim1[2]        \n",
    "    pa = np.sum( a ** 2.0) / sz    \n",
    "    \n",
    "    return pa"
   ]
  },
  {
   "cell_type": "code",
   "execution_count": 4,
   "id": "444de494",
   "metadata": {},
   "outputs": [
    {
     "name": "stdout",
     "output_type": "stream",
     "text": [
      "1.0 30.0\n"
     ]
    }
   ],
   "source": [
    "# test ....\n",
    "print( am_power( np.ones([8,8])) , am_power( np.ones([81,81]))*30 )"
   ]
  },
  {
   "cell_type": "code",
   "execution_count": 5,
   "id": "29380886",
   "metadata": {},
   "outputs": [],
   "source": [
    "# function to compute the image energy. input could be graylevel or color. \n",
    "\n",
    "am_energy = lambda a : np.sum(np.multiply(a,a)) \n"
   ]
  },
  {
   "cell_type": "code",
   "execution_count": 6,
   "id": "bc2cd74f",
   "metadata": {},
   "outputs": [
    {
     "name": "stdout",
     "output_type": "stream",
     "text": [
      "64.0 1920.0\n"
     ]
    }
   ],
   "source": [
    "# test ....\n",
    "print( am_energy( np.ones([8,8])) , am_energy( np.ones([8,8]))*30 )"
   ]
  },
  {
   "cell_type": "code",
   "execution_count": 7,
   "id": "7dba05f1",
   "metadata": {},
   "outputs": [],
   "source": [
    "# function to computer tha valid part of an image after convolution\n",
    "# a is image, and N is the size of filter convolved previosly with a\n",
    "#\n",
    "def am_valid_part(a,N=3):\n",
    "    cff = int(N/2)\n",
    "    M = a.shape\n",
    "    return a[cff:M[0]-cff, cff:M[1]-cff, :]"
   ]
  },
  {
   "cell_type": "markdown",
   "id": "7d9326d8",
   "metadata": {},
   "source": [
    "## make a matrix ready to be shown as an image, ... , "
   ]
  },
  {
   "cell_type": "code",
   "execution_count": 8,
   "id": "3301110b",
   "metadata": {},
   "outputs": [],
   "source": [
    "def ready_2_show(a, level=255):\n",
    "    a = ( a - np.min(a) ) / (np.max(a) - np.min(a)) \n",
    "    a = a * level\n",
    "    return np.uint8(a)\n"
   ]
  },
  {
   "cell_type": "markdown",
   "id": "2efab903",
   "metadata": {},
   "source": [
    "## Frequency Domain Filters definition\n",
    "### here, we define a few frequency domain filter that can be used to filter\n",
    "### images in Fourier, Wlash/Hadamard, and Cosine domain\n",
    "### filter max is 1 and mean is 0\n",
    "### "
   ]
  },
  {
   "cell_type": "code",
   "execution_count": 9,
   "id": "c25681c4",
   "metadata": {},
   "outputs": [],
   "source": [
    "#\n",
    "# The function generates an ideal low pass filter for frequency domain, \n",
    "# M and N are size of the filter/image, D0 is the cut_off point. \n",
    "# \n",
    "def idealLowPass(M, N, D0):\n",
    "    # Initializing the filter with ones; since the filter is a complex function,\n",
    "    # it has two channels, representing the real and imaginary parts:\n",
    "    filter = np.ones((M, N), dtype=np.uint8)\n",
    "    # normalized cut_off frequency is mapped to real index\n",
    "    D0 = D0 * min(M,N) / 2\n",
    "    # Scanning through each pixel and calculating the distance of each pixel\n",
    "    # to the image center. If the pixel is within D0, it is changed to 0:\n",
    "    for i in range(M):\n",
    "        for j in range(N):\n",
    "            if ( (i-M/2)**2 + (j-N/2)**2)**0.5 >= D0:\n",
    "                filter[i,j]= 0\n",
    "            \n",
    "    return filter\n"
   ]
  },
  {
   "cell_type": "code",
   "execution_count": 10,
   "id": "c60b2a2a",
   "metadata": {},
   "outputs": [],
   "source": [
    "f= idealLowPass(10,10,0.3)"
   ]
  },
  {
   "cell_type": "code",
   "execution_count": 11,
   "id": "1f92916b",
   "metadata": {},
   "outputs": [
    {
     "name": "stdout",
     "output_type": "stream",
     "text": [
      "[[0 0 0 0 0 0 0 0 0 0]\n",
      " [0 0 0 0 0 0 0 0 0 0]\n",
      " [0 0 0 0 0 0 0 0 0 0]\n",
      " [0 0 0 0 0 0 0 0 0 0]\n",
      " [0 0 0 0 1 1 1 0 0 0]\n",
      " [0 0 0 0 1 1 1 0 0 0]\n",
      " [0 0 0 0 1 1 1 0 0 0]\n",
      " [0 0 0 0 0 0 0 0 0 0]\n",
      " [0 0 0 0 0 0 0 0 0 0]\n",
      " [0 0 0 0 0 0 0 0 0 0]]\n"
     ]
    }
   ],
   "source": [
    "print(f)"
   ]
  },
  {
   "cell_type": "code",
   "execution_count": 12,
   "id": "e54f16c2",
   "metadata": {},
   "outputs": [],
   "source": [
    "f3= idealLowPass(200,300,0.3)\n",
    "cv2.imshow(\"ideal low pass\" , ready_2_show(f3) )\n"
   ]
  },
  {
   "cell_type": "code",
   "execution_count": 13,
   "id": "4ac36722",
   "metadata": {},
   "outputs": [],
   "source": [
    "#\n",
    "# The function generates an ideal high pass filter for frequency domain, \n",
    "# M and N are size of the filter/image, D0 is the cut off point. \n",
    "# \n",
    "idealHighPass = lambda M, N, D0 : 1- idealLowPass(M,N,D0)"
   ]
  },
  {
   "cell_type": "code",
   "execution_count": 14,
   "id": "b634ec4a",
   "metadata": {},
   "outputs": [],
   "source": [
    "f= idealHighPass(10,10,0.4)"
   ]
  },
  {
   "cell_type": "code",
   "execution_count": 15,
   "id": "97632eaa",
   "metadata": {},
   "outputs": [
    {
     "name": "stdout",
     "output_type": "stream",
     "text": [
      "[[1 1 1 1 1 1 1 1 1 1]\n",
      " [1 1 1 1 1 1 1 1 1 1]\n",
      " [1 1 1 1 1 1 1 1 1 1]\n",
      " [1 1 1 1 1 1 1 1 1 1]\n",
      " [1 1 1 1 0 0 0 1 1 1]\n",
      " [1 1 1 1 0 0 0 1 1 1]\n",
      " [1 1 1 1 0 0 0 1 1 1]\n",
      " [1 1 1 1 1 1 1 1 1 1]\n",
      " [1 1 1 1 1 1 1 1 1 1]\n",
      " [1 1 1 1 1 1 1 1 1 1]]\n"
     ]
    }
   ],
   "source": [
    "print(f)"
   ]
  },
  {
   "cell_type": "code",
   "execution_count": 16,
   "id": "89a8d666",
   "metadata": {},
   "outputs": [],
   "source": [
    "# \n",
    "# this function generates a lowpass Gaussian filter\n",
    "# image and filter size is MxN , STD of the Gaussian is D0 which is also the cut_off\n",
    "# point of the filter\n",
    "# \n",
    "def GaussLowPass(M, N, D0):\n",
    "    filter = np.zeros((M, N))\n",
    "    # normalized cut_off frequency is mapped to real index\n",
    "    D0 = D0 * min(M,N) / 2\n",
    "    for i in range(M):\n",
    "        for j in range(N):\n",
    "            d = ( (i-M/2)**2 + (j-N/2)**2 )**0.5\n",
    "            filter[i,j]= np.exp(-((d/2/D0)**2) )\n",
    "            \n",
    "    return filter\n"
   ]
  },
  {
   "cell_type": "code",
   "execution_count": 17,
   "id": "3bab4aa8",
   "metadata": {},
   "outputs": [
    {
     "name": "stdout",
     "output_type": "stream",
     "text": [
      "[[0.45783336 0.54315988 0.61368025 0.66031449 0.67663385 0.66031449\n",
      "  0.61368025 0.54315988]\n",
      " [0.54315988 0.64438872 0.72805199 0.78337746 0.80273827 0.78337746\n",
      "  0.72805199 0.64438872]\n",
      " [0.61368025 0.72805199 0.82257756 0.88508613 0.90696062 0.88508613\n",
      "  0.82257756 0.72805199]\n",
      " [0.66031449 0.78337746 0.88508613 0.9523448  0.97588155 0.9523448\n",
      "  0.88508613 0.78337746]\n",
      " [0.67663385 0.80273827 0.90696062 0.97588155 1.         0.97588155\n",
      "  0.90696062 0.80273827]\n",
      " [0.66031449 0.78337746 0.88508613 0.9523448  0.97588155 0.9523448\n",
      "  0.88508613 0.78337746]\n",
      " [0.61368025 0.72805199 0.82257756 0.88508613 0.90696062 0.88508613\n",
      "  0.82257756 0.72805199]\n",
      " [0.54315988 0.64438872 0.72805199 0.78337746 0.80273827 0.78337746\n",
      "  0.72805199 0.64438872]]\n"
     ]
    }
   ],
   "source": [
    "f= GaussLowPass(8, 8, 0.8) \n",
    "print(f)"
   ]
  },
  {
   "cell_type": "code",
   "execution_count": 18,
   "id": "4aff65e9",
   "metadata": {},
   "outputs": [],
   "source": [
    "f4 = GaussLowPass(250, 250, 0.3)\n",
    "cv2.imshow(\"Gaussian low pass\" , ready_2_show(f4) )"
   ]
  },
  {
   "cell_type": "code",
   "execution_count": 19,
   "id": "f450977f",
   "metadata": {},
   "outputs": [],
   "source": [
    "GaussHighPass = lambda M, N, D0: 1- GaussLowPass(M, N, D0)"
   ]
  },
  {
   "cell_type": "code",
   "execution_count": 20,
   "id": "89fe555d",
   "metadata": {},
   "outputs": [],
   "source": [
    "hh = GaussHighPass(250, 250, 0.85)\n",
    "cv2.imshow(\"Gaussian high pass\" , ready_2_show(hh) )"
   ]
  },
  {
   "cell_type": "code",
   "execution_count": 21,
   "id": "3ea3088f",
   "metadata": {},
   "outputs": [],
   "source": [
    "# \n",
    "# to generate a lowpass Butterworth filter of the frequency domain  \n",
    "# filter size is MxN, cut_off point of the filter is D0, n_o is the filter order\n",
    "#\n",
    "def ButterworthLowPass(M, N, D0, n_o):\n",
    "    #  \n",
    "    filter = np.zeros((M, N))\n",
    "    # normalized cut_off frequency is mapped to real index\n",
    "    D0 = D0 * min(M,N) / 2\n",
    "    n_o = 2 * n_o\n",
    "    for i in range(M):\n",
    "        for j in range(N):\n",
    "            d = ( (i-M/2)**2 + (j-N/2)**2 )**0.5\n",
    "            filter[i,j]= 1 / ( 1 + (d/D0)**n_o )\n",
    "            \n",
    "    return filter\n"
   ]
  },
  {
   "cell_type": "code",
   "execution_count": 22,
   "id": "5f4c09e8",
   "metadata": {},
   "outputs": [
    {
     "name": "stdout",
     "output_type": "stream",
     "text": [
      "[[0.11111111 0.13227513 0.1552795  0.17730496 0.19379845 0.2\n",
      "  0.19379845 0.17730496 0.1552795  0.13227513]\n",
      " [0.13227513 0.16339869 0.2        0.23809524 0.2688172  0.28089888\n",
      "  0.2688172  0.23809524 0.2        0.16339869]\n",
      " [0.1552795  0.2        0.25773196 0.32467532 0.38461538 0.40983607\n",
      "  0.38461538 0.32467532 0.25773196 0.2       ]\n",
      " [0.17730496 0.23809524 0.32467532 0.43859649 0.55555556 0.6097561\n",
      "  0.55555556 0.43859649 0.32467532 0.23809524]\n",
      " [0.19379845 0.2688172  0.38461538 0.55555556 0.75757576 0.86206897\n",
      "  0.75757576 0.55555556 0.38461538 0.2688172 ]\n",
      " [0.2        0.28089888 0.40983607 0.6097561  0.86206897 1.\n",
      "  0.86206897 0.6097561  0.40983607 0.28089888]\n",
      " [0.19379845 0.2688172  0.38461538 0.55555556 0.75757576 0.86206897\n",
      "  0.75757576 0.55555556 0.38461538 0.2688172 ]\n",
      " [0.17730496 0.23809524 0.32467532 0.43859649 0.55555556 0.6097561\n",
      "  0.55555556 0.43859649 0.32467532 0.23809524]\n",
      " [0.1552795  0.2        0.25773196 0.32467532 0.38461538 0.40983607\n",
      "  0.38461538 0.32467532 0.25773196 0.2       ]\n",
      " [0.13227513 0.16339869 0.2        0.23809524 0.2688172  0.28089888\n",
      "  0.2688172  0.23809524 0.2        0.16339869]]\n"
     ]
    }
   ],
   "source": [
    "f= ButterworthLowPass(10, 10, 0.5, 1) \n",
    "print(f)"
   ]
  },
  {
   "cell_type": "code",
   "execution_count": 23,
   "id": "4e323e64",
   "metadata": {},
   "outputs": [],
   "source": [
    "f =ButterworthLowPass(250, 250, 0.3 , 1 )\n",
    "cv2.imshow(\"Butterworth low pass, order=1\" , ready_2_show(f) ) \n",
    "g =ButterworthLowPass(250, 250, 0.3 , 4 )\n",
    "cv2.imshow(\"Butterworth low pass, order=4\" , ready_2_show(g) )"
   ]
  },
  {
   "cell_type": "code",
   "execution_count": 24,
   "id": "a305b41f",
   "metadata": {},
   "outputs": [],
   "source": [
    "ButterworthHighPass = lambda M, N, D0, n_o: 1 - ButterworthLowPass(M, N, D0, n_o)"
   ]
  },
  {
   "cell_type": "code",
   "execution_count": 25,
   "id": "f763b00b",
   "metadata": {},
   "outputs": [],
   "source": [
    "# \n",
    "# to generate a lowpass Butterworth filter of the frequency domain  \n",
    "# filter size is MxN, cut_off point of the filter is D0, n_o is the filter order\n",
    "#\n",
    "def ButterworthBandPass(M, N, D0, D1, n_o):\n",
    "    #  \n",
    "    filter = ButterworthLowPass(M, N,D0,n_o)\n",
    "    filter = ButterworthLowPass(M, N,D1,n_o) - filter\n",
    "        \n",
    "    filter = filter * (1/np.max(filter)) \n",
    "    \n",
    "    return filter"
   ]
  },
  {
   "cell_type": "code",
   "execution_count": 26,
   "id": "62b41509",
   "metadata": {},
   "outputs": [
    {
     "name": "stdout",
     "output_type": "stream",
     "text": [
      "0.0  ---  1.0\n"
     ]
    }
   ],
   "source": [
    "ff = ButterworthBandPass(512,512,0.05, 0.2 ,2) \n",
    "print(np.min(ff) , ' --- ', np.max(ff))\n",
    "g = (np.abs(ff-0.5) <= 0.01)\n",
    "g = np.uint8(g)\n",
    "cv2.imshow(\"BP Butterworth\",ready_2_show(ff))\n",
    "cv2.imshow(\"Cut_off freqs\",ready_2_show(g))\n"
   ]
  },
  {
   "cell_type": "code",
   "execution_count": 27,
   "id": "6af5fe4f",
   "metadata": {},
   "outputs": [],
   "source": [
    "ButterworthBandReject = lambda M, N, D0, D1, n_o: 1 - ButterworthBandPass(M, N, D0, D1, n_o)"
   ]
  },
  {
   "cell_type": "code",
   "execution_count": 28,
   "id": "412f9a20",
   "metadata": {},
   "outputs": [
    {
     "name": "stdout",
     "output_type": "stream",
     "text": [
      "0.0  ---  1.0\n"
     ]
    }
   ],
   "source": [
    "ff2 = ButterworthBandReject(512,512,0.05, 0.2 ,2) \n",
    "print(np.min(ff2) , ' --- ', np.max(ff2))\n",
    "gg = (np.abs(ff2-0.5) <= 0.01)\n",
    "gg = np.uint8(gg)\n",
    "cv2.imshow(\"BR Butterworth\",ready_2_show(ff2))\n",
    "cv2.imshow(\"Cut_off freqs\",ready_2_show(gg))\n"
   ]
  },
  {
   "cell_type": "code",
   "execution_count": 29,
   "id": "fdf78e96",
   "metadata": {},
   "outputs": [],
   "source": [
    "def am_print_mat( a ):\n",
    "    M = a.shape \n",
    "    for i in range(M[0]):\n",
    "        for j in range(M[1]): \n",
    "            print('%7.3f '%(a[i][j]) ,end='')\n",
    "        print(' ')\n"
   ]
  },
  {
   "cell_type": "code",
   "execution_count": 30,
   "id": "44cb7cb0",
   "metadata": {},
   "outputs": [
    {
     "ename": "",
     "evalue": "",
     "output_type": "error",
     "traceback": [
      "\u001b[1;31mThe Kernel crashed while executing code in the the current cell or a previous cell. Please review the code in the cell(s) to identify a possible cause of the failure. Click <a href='https://aka.ms/vscodeJupyterKernelCrash'>here</a> for more info. View Jupyter <a href='command:jupyter.viewOutput'>log</a> for further details."
     ]
    }
   ],
   "source": [
    "cv2.waitKey(0)\n",
    "cv2.destroyAllWindows() "
   ]
  }
 ],
 "metadata": {
  "kernelspec": {
   "display_name": "Python 3 (ipykernel)",
   "language": "python",
   "name": "python3"
  },
  "language_info": {
   "codemirror_mode": {
    "name": "ipython",
    "version": 3
   },
   "file_extension": ".py",
   "mimetype": "text/x-python",
   "name": "python",
   "nbconvert_exporter": "python",
   "pygments_lexer": "ipython3",
   "version": "3.10.6"
  }
 },
 "nbformat": 4,
 "nbformat_minor": 5
}
