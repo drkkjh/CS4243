{
 "cells": [
  {
   "cell_type": "code",
   "execution_count": 3,
   "metadata": {},
   "outputs": [],
   "source": [
    "%matplotlib inline\n",
    "import cv2\n",
    "import numpy as np\n",
    "from matplotlib import pyplot as plt"
   ]
  },
  {
   "cell_type": "markdown",
   "metadata": {},
   "source": [
    "Image_a: IMG_20200111_141756.jpg\n",
    "Image_b: high_spat_freq.bmp\n",
    "1. Calculate the power of the original image a, which will be denoted as Pa.\n",
    "2. Apply the vertical edge detector filter hVED to image a and compute the power of\n",
    "the resulting filtered image, denoted as Phpa.\n",
    "3. Filter image a with the Gaussian filter hGLP (from Question 2). Next, apply the\n",
    "vertical edge detector filter hVED to the filtered image and compute the power of the\n",
    "resulting image, Plphpa.\n",
    "4. Filter image a with the Gaussian filter hGLP (from Question 2) twice. Next, apply the\n",
    "vertical edge detector filter hVED to the twice‐filtered image and compute the power\n",
    "of the resulting image, Plplphpa.\n",
    "5. Open a new image named high_spat_freq.bmp and label it as b.\n",
    "6. Repeat the entire process outlined above for image b. Calculating Pb, Phpb, Plphpb,\n",
    "and Plplphpb."
   ]
  },
  {
   "cell_type": "code",
   "execution_count": 6,
   "metadata": {},
   "outputs": [
    {
     "name": "stdout",
     "output_type": "stream",
     "text": [
      "[[0.003663   0.01465201 0.02564103 0.01465201 0.003663  ]\n",
      " [0.01465201 0.05860806 0.0952381  0.05860806 0.01465201]\n",
      " [0.02564103 0.0952381  0.15018315 0.0952381  0.02564103]\n",
      " [0.01465201 0.05860806 0.0952381  0.05860806 0.01465201]\n",
      " [0.003663   0.01465201 0.02564103 0.01465201 0.003663  ]]\n",
      "[[-1  0  1]\n",
      " [-2  0  2]\n",
      " [-1  0  1]]\n"
     ]
    }
   ],
   "source": [
    "#utils_2023 functions\n",
    "\n",
    "# function to compute the image power. input could be graylevel or color. \n",
    "#\n",
    "def am_power(a):\n",
    "    dim1 = a.shape\n",
    "    \n",
    "    if len(dim1)==2:\n",
    "        sz = dim1[0] * dim1[1] \n",
    "    elif len(dim1)==3:\n",
    "        sz = dim1[0] * dim1[1] * dim1[2]        \n",
    "    pa = np.sum( a ** 2.0) / sz    \n",
    "    \n",
    "    return pa\n",
    "\n",
    "gausslp = 1/273 * np.array([[1, 4, 7, 4, 1], [4, 16, 26, 16, 4], [7, 26, 41, 26, 7], [4, 16, 26, 16, 4], [1, 4, 7, 4, 1]])\n",
    "print(gausslp)\n",
    "\n",
    "h_ved = np.array([[-1, 0, 1], [-2, 0, 2], [-1, 0, 1]])\n",
    "print(h_ved)"
   ]
  },
  {
   "cell_type": "code",
   "execution_count": 7,
   "metadata": {},
   "outputs": [
    {
     "name": "stdout",
     "output_type": "stream",
     "text": [
      "Pa = 17178.74590714809\n",
      "Phpa = 938.5970504717069\n",
      "Plphpa = 436.2485838613087\n",
      "Plplphpa = 273.8928085718901\n",
      "Ratio of Plplphpa / Phpa = 0.29181085582384997\n",
      "Ratio of Plplphpa / Pa = 0.015943702180141277\n",
      "------------------------------------------------------\n",
      "Pb = 37922.38235473633\n",
      "Phpb = 24450.582790374756\n",
      "Plphpb = 8343.05661392212\n",
      "Plplphpb = 3231.2771224975586\n",
      "Ratio of Plplphpb / Phpb = 0.13215542345966438\n",
      "Ratio of Plplphpb / Pb = 0.08520765104553056\n"
     ]
    }
   ],
   "source": [
    "# Cell for IMG_20200111_141756.jpg, high_spat_freq.bmp\n",
    "im_file_1 = '../CS4243_2023_images_small/IMG_20200111_141756.jpg'\n",
    "img1 = cv2.imread(im_file_1)\n",
    "# plt.imshow(img1)\n",
    "\n",
    "power_a = am_power(img1)\n",
    "\n",
    "filtered_once_a = cv2.filter2D(img1, ddepth = -1, kernel = h_ved)\n",
    "power_hpa = am_power(filtered_once_a)\n",
    "\n",
    "filtered_twice_a = cv2.filter2D(img1, ddepth = -1, kernel = gausslp)\n",
    "filtered_twice_a = cv2.filter2D(filtered_twice_a, ddepth = -1, kernel = h_ved)\n",
    "power_lphpa = am_power(filtered_twice_a)\n",
    "\n",
    "filtered_thrice_a = cv2.filter2D(img1, ddepth = -1, kernel = gausslp)\n",
    "filtered_thrice_a = cv2.filter2D(filtered_thrice_a, ddepth = -1, kernel = gausslp)\n",
    "filtered_thrice_a = cv2.filter2D(filtered_thrice_a, ddepth = -1, kernel = h_ved)\n",
    "power_lplphpa = am_power(filtered_thrice_a)\n",
    "\n",
    "print(\"Pa =\", power_a)\n",
    "print(\"Phpa =\", power_hpa)\n",
    "print(\"Plphpa =\", power_lphpa)\n",
    "print(\"Plplphpa =\", power_lplphpa)\n",
    "print(\"Ratio of Plplphpa / Phpa =\", power_lplphpa / power_hpa)\n",
    "print(\"Ratio of Plplphpa / Pa =\", power_lplphpa / power_a)\n",
    "print(\"------------------------------------------------------\")\n",
    "\n",
    "\n",
    "im_file_2 = '../CS4243_2023_images_small/high_spat_freq.bmp'\n",
    "img2 = cv2.imread(im_file_2)\n",
    "# plt.imshow(img1)\n",
    "\n",
    "power_b = am_power(img2)\n",
    "\n",
    "filtered_once_b = cv2.filter2D(img2, ddepth = -1, kernel = h_ved)\n",
    "power_hpb = am_power(filtered_once_b)\n",
    "\n",
    "filtered_twice_b = cv2.filter2D(img2, ddepth = -1, kernel = gausslp)\n",
    "filtered_twice_b = cv2.filter2D(filtered_twice_b, ddepth = -1, kernel = h_ved)\n",
    "power_lphpb = am_power(filtered_twice_b)\n",
    "\n",
    "filtered_thrice_b = cv2.filter2D(img2, ddepth = -1, kernel = gausslp)\n",
    "filtered_thrice_b = cv2.filter2D(filtered_thrice_b, ddepth = -1, kernel = gausslp)\n",
    "filtered_thrice_b = cv2.filter2D(filtered_thrice_b, ddepth = -1, kernel = h_ved)\n",
    "power_lplphpb = am_power(filtered_thrice_b)\n",
    "\n",
    "print(\"Pb =\", power_b)\n",
    "print(\"Phpb =\", power_hpb)\n",
    "print(\"Plphpb =\", power_lphpb)\n",
    "print(\"Plplphpb =\", power_lplphpb)\n",
    "print(\"Ratio of Plplphpb / Phpb =\", power_lplphpb / power_hpb)\n",
    "print(\"Ratio of Plplphpb / Pb =\", power_lplphpb / power_b)\n"
   ]
  },
  {
   "cell_type": "markdown",
   "metadata": {},
   "source": [
    "Conclusion: Answer (c) in Canvas"
   ]
  }
 ],
 "metadata": {
  "kernelspec": {
   "display_name": "Python 3",
   "language": "python",
   "name": "python3"
  },
  "language_info": {
   "codemirror_mode": {
    "name": "ipython",
    "version": 3
   },
   "file_extension": ".py",
   "mimetype": "text/x-python",
   "name": "python",
   "nbconvert_exporter": "python",
   "pygments_lexer": "ipython3",
   "version": "3.10.6"
  },
  "orig_nbformat": 4
 },
 "nbformat": 4,
 "nbformat_minor": 2
}
